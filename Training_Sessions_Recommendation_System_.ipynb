{
  "nbformat": 4,
  "nbformat_minor": 0,
  "metadata": {
    "colab": {
      "name": "Training_Sessions_Recommendation_System_.ipynb",
      "provenance": []
    },
    "kernelspec": {
      "name": "python3",
      "display_name": "Python 3"
    },
    "language_info": {
      "name": "python"
    }
  },
  "cells": [
    {
      "cell_type": "code",
      "metadata": {
        "colab": {
          "base_uri": "https://localhost:8080/"
        },
        "id": "lb5e7jrw2oOn",
        "outputId": "94e0fa46-0d76-4af7-e876-9e728d15ce84"
      },
      "source": [
        "pip install fuzzywuzzy"
      ],
      "execution_count": 1,
      "outputs": [
        {
          "output_type": "stream",
          "name": "stdout",
          "text": [
            "Looking in indexes: https://pypi.org/simple, https://us-python.pkg.dev/colab-wheels/public/simple/\n",
            "Collecting fuzzywuzzy\n",
            "  Downloading fuzzywuzzy-0.18.0-py2.py3-none-any.whl (18 kB)\n",
            "Installing collected packages: fuzzywuzzy\n",
            "Successfully installed fuzzywuzzy-0.18.0\n"
          ]
        }
      ]
    },
    {
      "cell_type": "code",
      "metadata": {
        "id": "OSdSlEvMhGRT"
      },
      "source": [
        "import csv\n",
        "import numpy as np\n",
        "import pandas as pd\n",
        "import fuzzywuzzy\n",
        "from fuzzywuzzy import fuzz\n",
        "from sklearn.metrics.pairwise import cosine_similarity\n",
        "from sklearn.feature_extraction.text import CountVectorizer\n",
        "from sklearn.feature_extraction.text import TfidfVectorizer\n",
        "from sklearn.metrics.pairwise import linear_kernel\n",
        "from nltk import word_tokenize\n",
        "import pickle\n",
        "\n",
        "\n",
        "df=pd.read_csv(r'YourDataset.csv')\n",
        "df"
      ],
      "execution_count": null,
      "outputs": []
    },
    {
      "cell_type": "code",
      "metadata": {
        "id": "zU2vJG0w3a4r"
      },
      "source": [
        "X=['TrainingSession_title','course_type']#the key points on which the training is recommended\n",
        "for X in X:\n",
        "    df[X]=df[X].fillna(' ')#if any data containg Null or no value it would be rplaced by blank space\n",
        "def all(row):\n",
        "    try:\n",
        "        return row['TrainingSession_title']+\" \"+row[\"course_type\"] \n",
        "    except: print(\"error\", row)#giving out the error fields.\n",
        "df[\"all\"]= df.apply(all,axis=1)\n",
        "df.head()"
      ],
      "execution_count": null,
      "outputs": []
    },
    {
      "cell_type": "code",
      "metadata": {
        "id": "uh9NG2HN5CiV"
      },
      "source": [
        "tf = TfidfVectorizer(analyzer = 'word', ngram_range = (1,2), min_df = 0, stop_words = 'english')\n",
        "tfidf_matrix = tf.fit_transform(df['TrainingSession_title'])\n",
        "cosine_sim = linear_kernel(tfidf_matrix, tfidf_matrix)\n",
        "cosine_sim\n"
      ],
      "execution_count": null,
      "outputs": []
    },
    {
      "cell_type": "code",
      "metadata": {
        "id": "qjKnhI5O5Hea"
      },
      "source": [
        "# create a function to find the closest title\n",
        "def matching_score(a,b):\n",
        "   return fuzz.ratio(a,b)"
      ],
      "execution_count": null,
      "outputs": []
    },
    {
      "cell_type": "code",
      "metadata": {
        "id": "oJNCm2y94qJq"
      },
      "source": [
        "def get_TrainingSession_title_from_index(index):\n",
        "   return df[df.index == index]['TrainingSession_title'].values[0],df[df.index == index]['course_link'].values[0]\n",
        "\n",
        "def get_index_from_TrainingSession_title(TrainingSession_title):\n",
        "   return df[df.TrainingSession_title == TrainingSession_title].index.values[0]\n",
        "\n",
        "# a function to return the most similar title to the words a user type\n",
        "def find_closest_title(TrainingSession_title):\n",
        "   leven_scores = list(enumerate(df['TrainingSession_title'].apply(matching_score, b=TrainingSession_title)))\n",
        "   sorted_leven_scores = sorted(leven_scores, key=lambda x: x[1], reverse=True)\n",
        "   closest_title,a = get_TrainingSession_title_from_index(sorted_leven_scores[0][0])\n",
        "   distance_score = sorted_leven_scores[0][1]\n",
        "   return closest_title, distance_score"
      ],
      "execution_count": null,
      "outputs": []
    },
    {
      "cell_type": "code",
      "metadata": {
        "id": "dKwHk_iN5YBT"
      },
      "source": [
        "fav_list = []\n",
        "#the list for user name \n",
        "username = []\n",
        "searchlist = []\n",
        "def recommender(Training_user_likes, how_many):\n",
        "     closest_title, distance_score = find_closest_title(Training_user_likes)\n",
        "     recommender.ct = closest_title\n",
        "     recommender.ds = distance_score\n",
        "    # When a user does not make misspellings\n",
        "     if distance_score == 100:\n",
        "        Training_index,a = get_TrainingSession_title_from_index (closest_title)\n",
        "        Training_list = list(enumerate(cosine_sim[int(Training_index)]))\n",
        "        print(closest_title)\n",
        "\n",
        "       # remove the typed course itself\n",
        "        similar_Training = list(filter(lambda x:x[0] != int(Training_index), sorted(Training_list,key=lambda x:x[1], reverse=True))) \n",
        "\n",
        "        print(' Similar courses '+'\\033[1m'+str(closest_title)+'\\033[0m'+'.\\n')\n",
        "\n",
        "        for i,s in similar_Training[:how_many]:\n",
        "         print(get_TrainingSession_title_from_index(i)) \n",
        "         print('Simialr courses '+'\\033[1m'+str(closest_title)+'\\033[0m'+'.\\n')\n",
        "\n",
        "     else:\n",
        "      Training_index = get_index_from_TrainingSession_title(closest_title)\n",
        "      Training_list = list(enumerate(cosine_sim[int(Training_index)]))\n",
        "      similar_Training= list(filter(lambda x:x[0] != int(Training_index), sorted(Training_list,key=lambda x:x[1], reverse=True)))\n",
        "      print(' \\n')\n",
        "      print(closest_title)\n",
        "      \n",
        "      for i,s in similar_Training[:how_many]:\n",
        "         print(get_TrainingSession_title_from_index(i))\n",
        "         fav_list.append(get_TrainingSession_title_from_index(i))\n",
        "\n"
      ],
      "execution_count": null,
      "outputs": []
    },
    {
      "cell_type": "code",
      "metadata": {
        "id": "vJXaNhZX5d2B"
      },
      "source": [
        "def user_in():\n",
        "    \n",
        "    name = input(\" Enter your name: \\n\")\n",
        "    \n",
        "    if any(name in subl for subl in username) == True:\n",
        "\n",
        "        print(\"\\n Sorry, the name is already Exist\")     \n",
        "        \n",
        "        \n",
        "    else :\n",
        "      recomentation = 5\n",
        "      search = input(\" \\n What are your favorite course topics? \\n\")\n",
        "      user_in.sea = search\n",
        "\n",
        "      print(name, end =\", \")\n",
        "      recommender(search,recomentation)\n",
        "      user_info(name,search)"
      ],
      "execution_count": null,
      "outputs": []
    },
    {
      "cell_type": "code",
      "metadata": {
        "id": "kAc6Z-cq1VA7"
      },
      "source": [
        "def login():\n",
        "    name = input(\"Enter your name  \\n\")\n",
        "    recomentation = 8\n",
        "    if name in username:\n",
        "        nindex =username.index(name)\n",
        "        print(\" Welcome back\")\n",
        "        print(name, end =\", \")\n",
        "        old_search = searchlist[nindex]\n",
        "        print(\"Based in your previous search, you may want to watch these courses\", old_search)\n",
        "        recommender(old_search,recomentation)\n",
        "        user_info(name,old_search)        \n",
        "    else :\n",
        "        print(\"Sorry, incorrect name! \")"
      ],
      "execution_count": null,
      "outputs": []
    },
    {
      "cell_type": "code",
      "metadata": {
        "id": "fhHHie8u5oWV"
      },
      "source": [
        "def user_info(name,fav):\n",
        "    #append each element \n",
        "    username.append(name)\n",
        "    searchlist.append(fav)\n",
        "    k=0\n",
        "    #each user will be appended \n",
        "    file1 = open(\"myfile.txt\",\"a\",encoding = 'utf-8')\n",
        "    file1.write(\"\\n Username:\\t \"+name+\"\\n \")\n",
        "    file1.write(\" preferences: \\t\"+ fav+\"\\n  \" )\n",
        "    fav_list.reverse()\n",
        "    for i,j in fav_list:\n",
        "        file1.write(str(i)+\" \"+str(j)+ \"\\n\")\n",
        "        k=k+1\n",
        "        if(k ==5):\n",
        "            break;"
      ],
      "execution_count": null,
      "outputs": []
    },
    {
      "cell_type": "code",
      "metadata": {
        "id": "33jPl_b8pb2a"
      },
      "source": [
        "user_in()"
      ],
      "execution_count": null,
      "outputs": []
    },
    {
      "cell_type": "code",
      "metadata": {
        "id": "1Bll-dEG1tpv"
      },
      "source": [
        "login()\n"
      ],
      "execution_count": null,
      "outputs": []
    },
    {
      "cell_type": "code",
      "metadata": {
        "id": "sgqSormkXDL0"
      },
      "source": [
        "print ('The accuracy between user input and the recommendation is :', recommender.ds/100)\n",
        "pred = []\n",
        "in_put = []\n",
        "\n",
        "in_put.append(user_in.sea)\n",
        "print('Input User is:', in_put) \n",
        "\n",
        "pred.append(recommender.ct)\n",
        "print('The Result Of Recommendation System is:',pred) \n",
        "\n",
        "from difflib import SequenceMatcher\n",
        "ratio = SequenceMatcher(None, recommender.ct, user_in.sea).ratio()\n",
        "print('Ratio of Similarity is:', ratio)"
      ],
      "execution_count": null,
      "outputs": []
    }
  ]
}